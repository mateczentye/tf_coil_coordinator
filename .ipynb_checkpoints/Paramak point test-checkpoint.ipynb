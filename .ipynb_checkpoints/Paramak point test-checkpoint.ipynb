{
 "cells": [
  {
   "cell_type": "code",
   "execution_count": 1,
   "id": "9ab113f4",
   "metadata": {},
   "outputs": [
    {
     "name": "stdout",
     "output_type": "stream",
     "text": [
      "8.0 50.0 20.0 28.0\n",
      "[(50.0, 0.0), (92.0, 0.0), (97.65685424949238, 2.3431457505076194), (100.0, 8.0), (100.0, 192.0), (97.65685424949238, 197.65685424949237), (92.0, 200.0), (50.0, 200.0), (50.0, 220.0), (92.0, 220.0), (111.79898987322333, 211.79898987322332), (120.0, 8.0), (111.79898987322333, -11.79898987322333), (92.0, -20.0), (50.0, -20.0)]\n"
     ]
    },
    {
     "ename": "ModuleNotFoundError",
     "evalue": "No module named 'paramak'",
     "output_type": "error",
     "traceback": [
      "\u001b[0;31m---------------------------------------------------------------------------\u001b[0m",
      "\u001b[0;31mModuleNotFoundError\u001b[0m                       Traceback (most recent call last)",
      "\u001b[0;32m<ipython-input-1-f653d168ddae>\u001b[0m in \u001b[0;36m<module>\u001b[0;34m\u001b[0m\n\u001b[1;32m      1\u001b[0m \u001b[0;32mimport\u001b[0m \u001b[0mtf_coil_coordinator\u001b[0m \u001b[0;32mas\u001b[0m \u001b[0mtf\u001b[0m\u001b[0;34m\u001b[0m\u001b[0;34m\u001b[0m\u001b[0m\n\u001b[0;32m----> 2\u001b[0;31m \u001b[0;32mimport\u001b[0m \u001b[0mparamak\u001b[0m\u001b[0;34m\u001b[0m\u001b[0;34m\u001b[0m\u001b[0m\n\u001b[0m\u001b[1;32m      3\u001b[0m \u001b[0;34m\u001b[0m\u001b[0m\n\u001b[1;32m      4\u001b[0m \u001b[0;34m\u001b[0m\u001b[0m\n\u001b[1;32m      5\u001b[0m \u001b[0;34m\u001b[0m\u001b[0m\n",
      "\u001b[0;31mModuleNotFoundError\u001b[0m: No module named 'paramak'"
     ]
    }
   ],
   "source": [
    "import tf_coil_coordinator as tf\n",
    "import paramak\n",
    "\n",
    " \n",
    "\n",
    "list(tf.find_points((50,0), (0,100), 20))\n",
    "\n",
    " \n",
    "\n",
    "mate_tf = paramak.ExtrudeStraightShape(\n",
    "    points = list(tf.find_points((50,0), (100,100), 20)),\n",
    "    distance=10,\n",
    "    azimuth_placement_angle=range(0,360,20)\n",
    ")\n",
    "\n",
    " \n",
    "\n",
    "mate_tf.show()"
   ]
  },
  {
   "cell_type": "code",
   "execution_count": null,
   "id": "7974de74",
   "metadata": {},
   "outputs": [],
   "source": []
  }
 ],
 "metadata": {
  "kernelspec": {
   "display_name": "Python 3",
   "language": "python",
   "name": "python3"
  },
  "language_info": {
   "codemirror_mode": {
    "name": "ipython",
    "version": 3
   },
   "file_extension": ".py",
   "mimetype": "text/x-python",
   "name": "python",
   "nbconvert_exporter": "python",
   "pygments_lexer": "ipython3",
   "version": "3.8.5"
  }
 },
 "nbformat": 4,
 "nbformat_minor": 5
}
